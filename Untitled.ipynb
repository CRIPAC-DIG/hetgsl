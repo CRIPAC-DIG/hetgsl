{
 "cells": [
  {
   "cell_type": "code",
   "execution_count": 68,
   "id": "independent-behalf",
   "metadata": {},
   "outputs": [],
   "source": [
    "import numpy as np\n",
    "import matplotlib.pyplot as plt\n",
    "import argparse\n",
    "import pdb\n",
    "import seaborn as sns\n",
    "from dataset_utils import build_dataset, get_mask\n",
    "import torch.nn.functional as F\n",
    "import torch    \n",
    "\n",
    "from layer import CompatibilityLayer"
   ]
  },
  {
   "cell_type": "code",
   "execution_count": 69,
   "id": "hungry-christmas",
   "metadata": {},
   "outputs": [],
   "source": [
    "dataset_name = 'Chameleon'"
   ]
  },
  {
   "cell_type": "code",
   "execution_count": 70,
   "id": "adjustable-bargain",
   "metadata": {},
   "outputs": [
    {
     "name": "stdout",
     "output_type": "stream",
     "text": [
      "For dataset Chameleon\n",
      "2277 nodes, 36101 edges\n"
     ]
    }
   ],
   "source": [
    "dataset = build_dataset(dataset_name, to_cuda=False)"
   ]
  },
  {
   "cell_type": "code",
   "execution_count": 71,
   "id": "visible-pillow",
   "metadata": {},
   "outputs": [],
   "source": [
    "x = dataset['features']\n",
    "# normed_adj = dataset['normed_adj']\n",
    "raw_adj = dataset['raw_adj']\n",
    "y = dataset['labels']\n",
    "y = F.one_hot(y) + 0.0\n",
    "# pdb.set_trace()\n",
    "ground_truth_H = (y.T @ raw_adj @ y )/ (y.T @ raw_adj @ torch.ones_like(y))\n",
    "\n",
    "# print(ground_truth_H)\n",
    "H = torch.Tensor(ground_truth_H).cuda()\n",
    "H = CompatibilityLayer.makeDoubleStochasticH(H, max_iterations=3000)\n",
    "H = CompatibilityLayer.makeSymmetricH(H)\n",
    "# print(H)\n",
    "H = H.cpu().numpy()"
   ]
  },
  {
   "cell_type": "code",
   "execution_count": 72,
   "id": "soviet-notice",
   "metadata": {},
   "outputs": [
    {
     "name": "stdout",
     "output_type": "stream",
     "text": [
      "[[0.25799736 0.34555393 0.14101529 0.11664879 0.13878462]\n",
      " [0.34555393 0.21457605 0.1668896  0.1341732  0.1388072 ]\n",
      " [0.14101529 0.1668896  0.23816958 0.22879523 0.22513032]\n",
      " [0.11664879 0.1341732  0.22879523 0.2528239  0.26755893]\n",
      " [0.13878462 0.1388072  0.22513032 0.26755893 0.229719  ]]\n"
     ]
    }
   ],
   "source": [
    "print(H)\n",
    "ax = sns.heatmap(H, linewidth=0.5)\n",
    "# plt.show()\n",
    "plt.savefig(f'{dataset_name}_gtH.pdf')\n",
    "plt.close()"
   ]
  },
  {
   "cell_type": "code",
   "execution_count": 65,
   "id": "balanced-python",
   "metadata": {},
   "outputs": [
    {
     "name": "stdout",
     "output_type": "stream",
     "text": [
      "Loading Chameleon_savedH.npy\n"
     ]
    },
    {
     "name": "stderr",
     "output_type": "stream",
     "text": [
      "/data1/wangliping/projects/heterophily/hetgsl/layer.py:157: UserWarning: makeDoubleStochasticH: maximum number of iterations reached.\n",
      "  warnings.warn(\n"
     ]
    }
   ],
   "source": [
    "filename = f'{dataset_name}_savedH.npy'\n",
    "print(f'Loading {filename}')\n",
    "with open(filename, 'rb') as f:\n",
    "    saved_H = np.load(f)\n",
    "    # plt.plot(saved_H)\n",
    "# print(saved_H)\n",
    "\n",
    "# row_H = F.softmax(torch.Tensor(saved_H), dim=1).numpy()\n",
    "# print(row_H)\n",
    "# col_H = F.softmax(torch.Tensor(saved_H), dim=0).numpy()\n",
    "# print(col_H)\n",
    "\n",
    "H = torch.Tensor(saved_H).cuda()\n",
    "H = CompatibilityLayer.makeDoubleStochasticH(H, max_iterations=3000)\n",
    "H = CompatibilityLayer.makeSymmetricH(H)\n",
    "# print(H)\n",
    "H = H.cpu().numpy()"
   ]
  },
  {
   "cell_type": "code",
   "execution_count": 66,
   "id": "professional-portfolio",
   "metadata": {},
   "outputs": [
    {
     "name": "stdout",
     "output_type": "stream",
     "text": [
      "[[ 0.61990947  0.33835432 -0.08745989  0.25274193  0.2820654 ]\n",
      " [ 0.33835432  0.77335554  0.08561818 -0.28486624 -0.5497801 ]\n",
      " [-0.08745989  0.08561818  0.34244952  0.20399523  0.2993378 ]\n",
      " [ 0.25274193 -0.28486624  0.20399523  1.1187569  -0.6603934 ]\n",
      " [ 0.2820654  -0.5497801   0.2993378  -0.6603934   2.3863022 ]]\n"
     ]
    },
    {
     "data": {
      "image/png": "[encoded data removed]",
      "text/plain": [
       "<Figure size 432x288 with 2 Axes>"
      ]
     },
     "metadata": {
      "needs_background": "light"
     },
     "output_type": "display_data"
    }
   ],
   "source": [
    "print(H)\n",
    "ax = sns.heatmap(H, linewidth=0.5)\n",
    "# plt.show()\n",
    "plt.savefig(f'{dataset_name}_savedH.pdf')\n",
    "plt.show()\n",
    "plt.close()"
   ]
  },
  {
   "cell_type": "code",
   "execution_count": null,
   "id": "baking-concert",
   "metadata": {},
   "outputs": [],
   "source": []
  }
 ],
 "metadata": {
  "kernelspec": {
   "display_name": "Python 3",
   "language": "python",
   "name": "python3"
  },
  "language_info": {
   "codemirror_mode": {
    "name": "ipython",
    "version": 3
   },
   "file_extension": ".py",
   "mimetype": "text/x-python",
   "name": "python",
   "nbconvert_exporter": "python",
   "pygments_lexer": "ipython3",
   "version": "3.8.0"
  }
 },
 "nbformat": 4,
 "nbformat_minor": 5
}
