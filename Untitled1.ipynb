{
 "cells": [
  {
   "cell_type": "code",
   "execution_count": 18,
   "id": "failing-calibration",
   "metadata": {},
   "outputs": [],
   "source": [
    "import numpy as np\n",
    "import matplotlib.pyplot as plt\n",
    "import argparse\n",
    "import pdb\n",
    "import seaborn as sns\n",
    "from dataset_utils import build_dataset, get_mask\n",
    "import torch.nn.functional as F\n",
    "import torch    \n",
    "\n",
    "from layer import CompatibilityLayer\n",
    "import matplotlib.pyplot as plt"
   ]
  },
  {
   "cell_type": "code",
   "execution_count": 19,
   "id": "quality-tuning",
   "metadata": {},
   "outputs": [
    {
     "name": "stdout",
     "output_type": "stream",
     "text": [
      "For dataset Chameleon\n",
      "2277 nodes, 36101 edges\n"
     ]
    }
   ],
   "source": [
    "dataset_name = 'Chameleon'\n",
    "\n",
    "dataset = build_dataset(dataset_name, to_cuda=False)\n",
    "raw_adj = dataset['raw_adj'].numpy()\n",
    "y = dataset['labels'].numpy()\n"
   ]
  },
  {
   "cell_type": "code",
   "execution_count": 22,
   "id": "fabulous-schema",
   "metadata": {},
   "outputs": [
    {
     "name": "stdout",
     "output_type": "stream",
     "text": [
      "For dataset Chameleon\n",
      "2277 nodes, 36101 edges\n"
     ]
    }
   ],
   "source": [
    "# ours cheb\n",
    "model_path = f'{dataset_name}_model.pth' # main branch\n",
    "\n",
    "model = torch.load(model_path,map_location=lambda storage, loc: storage)\n",
    "train_mask = dataset['train_masks'][0]\n",
    "\n",
    "model.eval()\n",
    "\n",
    "with torch.no_grad():\n",
    "    logits, node_vec, first_adj = model.forward_one(train_mask)\n",
    "    # first_adj = cur_normed_adj\n",
    "    last_logits = logits.detach()\n",
    "\n",
    "    for _ in range(10):\n",
    "        logits, node_vec = model.forward_two(node_vec, last_logits, train_mask, first_adj)\n",
    "\n",
    "    pred = logits\n",
    "    \n",
    "our_pred = pred.max(1)[1].numpy()\n",
    "\n",
    "# ours = draw(y, pred)"
   ]
  },
  {
   "cell_type": "code",
   "execution_count": 24,
   "id": "dangerous-accordance",
   "metadata": {},
   "outputs": [
    {
     "name": "stdout",
     "output_type": "stream",
     "text": [
      "For dataset Chameleon\n",
      "2277 nodes, 36101 edges\n"
     ]
    }
   ],
   "source": [
    "# gcn\n",
    "model_path = 'Chameleon_baseline_gcn_model.pth'\n",
    "model = torch.load(model_path,map_location=lambda storage, loc: storage)\n",
    "dataset = build_dataset(dataset_name, to_cuda=False)\n",
    "raw_dataset = dataset['raw_dataset']\n",
    "data = raw_dataset[0]\n",
    "pred = model(data)\n",
    "gcn_pred = pred.max(1)[1].numpy()"
   ]
  },
  {
   "cell_type": "code",
   "execution_count": 26,
   "id": "finnish-sleeve",
   "metadata": {},
   "outputs": [],
   "source": [
    "# idgl\n",
    "# needs to checkout idgl branch\n",
    "model_path = 'Chameleon_idgl_model.pth'\n",
    "model = torch.load(model_path,map_location=lambda storage, loc: storage)\n",
    "model.eval()\n",
    "   \n",
    "with torch.no_grad():\n",
    "    logits, node_vec, cur_raw_adj, cur_normed_adj = model.forward_one()\n",
    "    first_adj = cur_normed_adj\n",
    "\n",
    "    for _ in range(10):\n",
    "        logits, node_vec, cur_raw_adj, cur_normed_adj = model.forward_two(node_vec, first_adj)\n",
    "\n",
    "    pred = logits\n",
    "            \n",
    "idgl_pred = pred.max(1)[1].numpy()"
   ]
  },
  {
   "cell_type": "code",
   "execution_count": 108,
   "id": "green-animation",
   "metadata": {},
   "outputs": [],
   "source": [
    "def draw(y, pred, n_bin):\n",
    "    neis = dict()\n",
    "    n_ys = dict()\n",
    "    n = y.shape[0]\n",
    "    hs = [0 for i in range(n)]\n",
    "#     hs = []\n",
    "    \n",
    "    for i in range(n):\n",
    "        neis[i] = raw_adj[i].nonzero()[0]\n",
    "        n_ys[i] = y[neis[i]]\n",
    "        hs[i] = (n_ys[i] == y[i]).sum()/len(neis[i])\n",
    "\n",
    "    bins = plt.hist(hs, bins=n_bins)\n",
    "    plt.close()\n",
    "    cnts = bins[0]\n",
    "    edges = bins[1]\n",
    "\n",
    "    acc_cnts = [0 for i in range(len(cnts))]\n",
    "    for i in range(n):\n",
    "        neis[i] = raw_adj[i].nonzero()[0]\n",
    "        if len(neis[i]) <= 1:\n",
    "            continue\n",
    "        is_true = (pred[i] == y[i])\n",
    "        for j in range(len(cnts)):\n",
    "            if hs[k]>=edges[j] and hs[k] < edges[j+1]:\n",
    "                acc_cnts[j] += is_true\n",
    "\n",
    "    accs = np.array(acc_cnts) / cnts\n",
    "    \n",
    "\n",
    "#     plt.hist(hs, bins=n_bins, density=True)\n",
    "#     plt.plot((edges[:-1]+edges[1:])/2, accs*7)\n",
    "    return edges, hs, accs"
   ]
  },
  {
   "cell_type": "code",
   "execution_count": 109,
   "id": "flexible-scanner",
   "metadata": {},
   "outputs": [],
   "source": [
    "n_bins = 10\n",
    "ours = draw(y, our_pred, n_bins)\n",
    "gcns = draw(y, gcn_pred, n_bins)\n",
    "idgls = draw(y, idgl_pred, n_bins)\n",
    "edges, hs = ours[0], ours[1]\n",
    "# edges = np.array(edges)\n",
    "def mask_nan_to_one(x):\n",
    "    x[np.isnan(x)] = 1\n",
    "    return x\n",
    "# our_acc, gcn_acc, idgl_acc = mask_nan_to_one(ours[-1]), mask_nan_to_one(gcns[-1]), mask_nan_to_one(idgls[-1])\n"
   ]
  },
  {
   "cell_type": "code",
   "execution_count": 121,
   "id": "acquired-paris",
   "metadata": {},
   "outputs": [
    {
     "data": {
      "image/png": "[encoded data removed]",
      "text/plain": [
       "<Figure size 432x288 with 2 Axes>"
      ]
     },
     "metadata": {
      "needs_background": "light"
     },
     "output_type": "display_data"
    }
   ],
   "source": [
    "def smooth(x, k=3):\n",
    "    n = len(x)\n",
    "    y = np.zeros(len(x))\n",
    "    y[:n-k+1] += x[:n-k+1]\n",
    "    for i in range(k-1):\n",
    "        y[:n-k+1] += x[i+1:n-k+i+2]\n",
    "    y /= k\n",
    "\n",
    "    y[n-k+1:] += x[n-k+1:]\n",
    "    return y\n",
    "\n",
    "fig, ax1 = plt.subplots()\n",
    "new_hs = [x for x in hs if x < 0.9]\n",
    "\n",
    "ax1.set_ylim(0, 800)\n",
    "ax1.hist(hs, range=(0, 0.9), bins=n_bins-1)\n",
    "\n",
    "ax2 = plt.twinx(ax1)\n",
    "k=1\n",
    "ax2.set_ylim(0, 1.0)\n",
    "ax2.plot(((edges[:-1]+edges[1:])/2)[:-1], smooth(our_acc, k)[:-1], 'r', label='LGS', marker='s')\n",
    "ax2.plot(((edges[:-1]+edges[1:])/2)[:-1],  smooth(gcn_acc, k)[:-1], c='#fca311', label='GCN', marker='^', markersize=6)\n",
    "ax2.plot(((edges[:-1]+edges[1:])/2)[:-1],  smooth(idgl_acc, k)[:-1], 'bo-', label='IDGL')\n",
    "# plt.plot((edges[:-1]+edges[1:])/2, smooth(our_gcn_acc, k), 'b', label='Ours_gcn')\n",
    "ax1.set_xlabel('Homophily Ratio')\n",
    "ax1.set_ylabel('# node')\n",
    "ax2.set_ylabel('Accuracy')\n",
    "\n",
    "plt.legend(loc='best')\n",
    "# plt.show()\n",
    "plt.savefig('acc.pdf')\n",
    "# plt.close()"
   ]
  },
  {
   "cell_type": "code",
   "execution_count": 111,
   "id": "introductory-validation",
   "metadata": {},
   "outputs": [
    {
     "data": {
      "text/plain": [
       "(0.0, 1.0)"
      ]
     },
     "execution_count": 111,
     "metadata": {},
     "output_type": "execute_result"
    }
   ],
   "source": [
    "ax2.set_ylim(0, 1.0)"
   ]
  }
 ],
 "metadata": {
  "kernelspec": {
   "display_name": "Python 3",
   "language": "python",
   "name": "python3"
  },
  "language_info": {
   "codemirror_mode": {
    "name": "ipython",
    "version": 3
   },
   "file_extension": ".py",
   "mimetype": "text/x-python",
   "name": "python",
   "nbconvert_exporter": "python",
   "pygments_lexer": "ipython3",
   "version": "3.8.0"
  }
 },
 "nbformat": 4,
 "nbformat_minor": 5
}
